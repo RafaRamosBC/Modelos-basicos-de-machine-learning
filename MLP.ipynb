{
  "nbformat": 4,
  "nbformat_minor": 0,
  "metadata": {
    "colab": {
      "provenance": []
    },
    "kernelspec": {
      "name": "python3",
      "display_name": "Python 3"
    },
    "language_info": {
      "name": "python"
    }
  },
  "cells": [
    {
      "cell_type": "markdown",
      "source": [
        "# Miniprojeto MLP\n",
        "\n",
        "### Grupo:\n",
        "#### - Caio Rocha Calado\n",
        "#### - Gabriel Ayres Barbosa\n",
        "#### - Emanoel Thyago Cordeiro dos Santos\n",
        "#### - Mateus Araújo Neves\n",
        "#### - Rafael Ramos Batista Corcino"
      ],
      "metadata": {
        "id": "IrKB3DtRQuf5"
      }
    },
    {
      "cell_type": "markdown",
      "source": [
        "# Importando as Bibliotecas"
      ],
      "metadata": {
        "id": "1rXlu4Rx7wQe"
      }
    },
    {
      "cell_type": "code",
      "execution_count": 659,
      "metadata": {
        "id": "TVRhtfJunA4L"
      },
      "outputs": [],
      "source": [
        "import numpy as np\n",
        "import pandas as pd\n",
        "from sklearn.preprocessing import MinMaxScaler, StandardScaler\n",
        "from sklearn.model_selection import train_test_split, KFold\n",
        "from sklearn.metrics import confusion_matrix, accuracy_score, precision_score, recall_score, f1_score, roc_auc_score\n",
        "import seaborn as sns\n",
        "import matplotlib.pyplot as plt\n",
        "import torch\n",
        "import torch.nn as nn\n",
        "import torch.optim as optim\n",
        "from sklearn.utils import resample\n",
        "import torch.nn.init as init"
      ]
    },
    {
      "cell_type": "markdown",
      "source": [
        "# Análise Inicial dos Dados"
      ],
      "metadata": {
        "id": "YYO6DJc07m1P"
      }
    },
    {
      "cell_type": "code",
      "source": [
        "# Carregando os arquivos\n",
        "train_df = pd.read_csv('/content/train.csv')\n",
        "test_df = pd.read_csv('/content/test.csv')\n",
        "target_test = pd.read_csv('/content/gender_submission.csv')"
      ],
      "metadata": {
        "id": "Hz8SM85ZnXfQ"
      },
      "execution_count": 660,
      "outputs": []
    },
    {
      "cell_type": "code",
      "source": [
        "print(train_df.isnull().sum())"
      ],
      "metadata": {
        "colab": {
          "base_uri": "https://localhost:8080/"
        },
        "id": "-lBF8zhF8HfR",
        "outputId": "4e2c023a-6a05-4266-9bf3-c32cd52e1c7e"
      },
      "execution_count": 661,
      "outputs": [
        {
          "output_type": "stream",
          "name": "stdout",
          "text": [
            "PassengerId      0\n",
            "Survived         0\n",
            "Pclass           0\n",
            "Name             0\n",
            "Sex              0\n",
            "Age            177\n",
            "SibSp            0\n",
            "Parch            0\n",
            "Ticket           0\n",
            "Fare             0\n",
            "Cabin          687\n",
            "Embarked         2\n",
            "dtype: int64\n"
          ]
        }
      ]
    },
    {
      "cell_type": "code",
      "source": [
        "print(train_df.nunique())"
      ],
      "metadata": {
        "colab": {
          "base_uri": "https://localhost:8080/"
        },
        "id": "HkPFhAtiRy7T",
        "outputId": "d24a82fb-099c-484f-8201-b73a64d4098b"
      },
      "execution_count": 662,
      "outputs": [
        {
          "output_type": "stream",
          "name": "stdout",
          "text": [
            "PassengerId    891\n",
            "Survived         2\n",
            "Pclass           3\n",
            "Name           891\n",
            "Sex              2\n",
            "Age             88\n",
            "SibSp            7\n",
            "Parch            7\n",
            "Ticket         681\n",
            "Fare           248\n",
            "Cabin          147\n",
            "Embarked         3\n",
            "dtype: int64\n"
          ]
        }
      ]
    },
    {
      "cell_type": "markdown",
      "source": [
        "# Pré-processamento dos Dados"
      ],
      "metadata": {
        "id": "MA3-oqR976-9"
      }
    },
    {
      "cell_type": "code",
      "source": [
        "# Removendo colunas irrelevantes ou com muitos valores únicos\n",
        "train_df = train_df.drop(['PassengerId', 'Name', 'Cabin', 'Ticket'], axis=1)\n",
        "\n",
        "# Preenchendo valores ausentes na coluna 'Age' com a média\n",
        "train_df['Age'] = train_df['Age'].fillna(train_df['Age'].mean())\n",
        "\n",
        "# Removendo linhas restantes com valores ausentes\n",
        "train_df = train_df.dropna()\n",
        "\n",
        "# Convertendo variáveis categóricas para variáveis dummy (one-hot encoding)\n",
        "train_df = pd.get_dummies(train_df, columns=['Sex', 'Embarked'])\n",
        "\n",
        "# Garantindo que todos os dados sejam do tipo float\n",
        "train_df = train_df.astype(float)"
      ],
      "metadata": {
        "id": "O60KOAeyplSt"
      },
      "execution_count": 663,
      "outputs": []
    },
    {
      "cell_type": "code",
      "source": [
        "# Separar as classes\n",
        "df_majority = train_df[train_df['Survived'] == 0.0]\n",
        "df_minority = train_df[train_df['Survived'] == 1.0]\n",
        "\n",
        "# Aplicar Oversampling na classe minoritária\n",
        "df_minority_upsampled = resample(df_minority,\n",
        "                                 replace=True,  # Permite duplicação\n",
        "                                 n_samples=len(df_majority),  # Igualar ao tamanho da maioria\n",
        "                                 random_state=42)\n",
        "\n",
        "# Combinar os datasets balanceados\n",
        "train_df_balanced = pd.concat([df_majority, df_minority_upsampled])\n",
        "\n",
        "# Verificar se ficou balanceado\n",
        "print(train_df_balanced['Survived'].value_counts())"
      ],
      "metadata": {
        "colab": {
          "base_uri": "https://localhost:8080/"
        },
        "id": "TBWEUQpP8Oc3",
        "outputId": "09373f76-0c26-479f-a06c-714bfad02d41"
      },
      "execution_count": 664,
      "outputs": [
        {
          "output_type": "stream",
          "name": "stdout",
          "text": [
            "Survived\n",
            "0.0    549\n",
            "1.0    549\n",
            "Name: count, dtype: int64\n"
          ]
        }
      ]
    },
    {
      "cell_type": "code",
      "source": [
        "# Separar features e target\n",
        "features = train_df_balanced.drop(columns=['Survived'])\n",
        "target = train_df_balanced['Survived']"
      ],
      "metadata": {
        "id": "wJcK6l6DPROu"
      },
      "execution_count": 665,
      "outputs": []
    },
    {
      "cell_type": "code",
      "source": [
        "# Normalização\n",
        "minmax_scaler = MinMaxScaler()\n",
        "features_minmax = pd.DataFrame(minmax_scaler.fit_transform(features), columns=features.columns)\n",
        "\n",
        "print(\"\\nMinMaxScaler:\")\n",
        "print(features_minmax.head())"
      ],
      "metadata": {
        "colab": {
          "base_uri": "https://localhost:8080/"
        },
        "id": "E22NTOIy2ZRP",
        "outputId": "ff208348-0115-4c86-89ce-8befd54a8630"
      },
      "execution_count": 666,
      "outputs": [
        {
          "output_type": "stream",
          "name": "stdout",
          "text": [
            "\n",
            "MinMaxScaler:\n",
            "   Pclass       Age  SibSp     Parch      Fare  Sex_female  Sex_male  \\\n",
            "0     1.0  0.271174  0.125  0.000000  0.014151         0.0       1.0   \n",
            "1     1.0  0.434531  0.000  0.000000  0.015713         0.0       1.0   \n",
            "2     1.0  0.367921  0.000  0.000000  0.016510         0.0       1.0   \n",
            "3     0.0  0.673285  0.000  0.000000  0.101229         0.0       1.0   \n",
            "4     1.0  0.019854  0.375  0.166667  0.041136         0.0       1.0   \n",
            "\n",
            "   Embarked_C  Embarked_Q  Embarked_S  \n",
            "0         0.0         0.0         1.0  \n",
            "1         0.0         0.0         1.0  \n",
            "2         0.0         1.0         0.0  \n",
            "3         0.0         0.0         1.0  \n",
            "4         0.0         0.0         1.0  \n"
          ]
        }
      ]
    },
    {
      "cell_type": "markdown",
      "source": [
        "# Modelo"
      ],
      "metadata": {
        "id": "TcnZ85km83Cb"
      }
    },
    {
      "cell_type": "code",
      "source": [
        "class MLP(nn.Module):\n",
        "    def __init__(self, input_size, dropout_prob=0.5):\n",
        "        super(MLP, self).__init__()\n",
        "\n",
        "        self.model = nn.Sequential(\n",
        "            nn.Linear(input_size, 256),\n",
        "            nn.Sigmoid(),\n",
        "            nn.Dropout(dropout_prob),\n",
        "            nn.Linear(256, 128),\n",
        "            nn.Sigmoid(),\n",
        "            nn.Dropout(dropout_prob),\n",
        "            nn.Linear(128, 1),\n",
        "            nn.Sigmoid()\n",
        "        )\n",
        "\n",
        "        # Inicialização Xavier\n",
        "        self.apply(self.init_weights)\n",
        "\n",
        "    def forward(self, x):\n",
        "        return self.model(x)\n",
        "\n",
        "    def init_weights(self, m):\n",
        "        if isinstance(m, nn.Linear):\n",
        "            init.xavier_uniform_(m.weight)  # Inicialização Xavier Uniforme\n",
        "            if m.bias is not None:\n",
        "                m.bias.data.fill_(0)  # Inicializa os bias com 0"
      ],
      "metadata": {
        "id": "lQAIxkfL9CNm"
      },
      "execution_count": 667,
      "outputs": []
    },
    {
      "cell_type": "code",
      "source": [
        "# Convertendo as features para um tensor do PyTorch\n",
        "features_train = torch.tensor(features_minmax.to_numpy(), dtype=torch.float32)\n",
        "\n",
        "# Convertendo o target para um tensor do PyTorch e adicionando uma dimensão extra\n",
        "target_train = torch.tensor(target.to_numpy(), dtype=torch.float32).unsqueeze(1)"
      ],
      "metadata": {
        "id": "Uyd4XZ_CTmdp"
      },
      "execution_count": 668,
      "outputs": []
    },
    {
      "cell_type": "code",
      "source": [
        "# Definindo KFold para 5 splits\n",
        "kf = KFold(n_splits=5, shuffle=True, random_state=42)\n",
        "\n",
        "# Armazenando os resultados\n",
        "accuracies = []\n",
        "\n",
        "# Cross-validation\n",
        "bestModel = None\n",
        "bestAccuracy = 0\n",
        "\n",
        "for train_idx, val_idx in kf.split(features_train):\n",
        "    # Separando dados de treino e validação\n",
        "    X_train, X_val = features_train[train_idx], features_train[val_idx]\n",
        "    y_train, y_val = target_train[train_idx], target_train[val_idx]\n",
        "\n",
        "    # Criar modelo e otimizar\n",
        "    model = MLP(input_size=X_train.shape[1])\n",
        "    criterion = nn.BCELoss()\n",
        "    optimizer = optim.Adam(model.parameters(), lr=0.001)\n",
        "\n",
        "    # Treinamento\n",
        "    epochs = 100\n",
        "    for epoch in range(epochs):\n",
        "        model.train()  # Coloca o modelo em modo de treino\n",
        "        optimizer.zero_grad()\n",
        "        y_pred = model(X_train)\n",
        "        loss = criterion(y_pred, y_train)\n",
        "        loss.backward()\n",
        "        optimizer.step()\n",
        "\n",
        "    # Avaliação no conjunto de validação\n",
        "    model.eval()  # Coloca o modelo em modo de avaliação\n",
        "    with torch.no_grad():\n",
        "        y_val_pred = model(X_val)\n",
        "        val_accuracy = ((y_val_pred.round() == y_val).float().mean()).item()\n",
        "\n",
        "    accuracies.append(val_accuracy)\n",
        "    print(f\"Fold - Acurácia de Validação: {val_accuracy:.4f}\")\n",
        "\n",
        "    if bestModel == None or val_accuracy > bestAccuracy:\n",
        "        bestAccuracy = val_accuracy\n",
        "        bestModel = model\n",
        "\n",
        "# Resultado final: Média das acurácias nos folds\n",
        "mean_accuracy = np.mean(accuracies)\n",
        "print(f\"\\nAcurácia média da cross-validation: {mean_accuracy:.4f}\")"
      ],
      "metadata": {
        "colab": {
          "base_uri": "https://localhost:8080/"
        },
        "id": "WuTiO_nyEv1W",
        "outputId": "b4ab18fe-f208-44b9-d3f4-543b61927f09"
      },
      "execution_count": 669,
      "outputs": [
        {
          "output_type": "stream",
          "name": "stdout",
          "text": [
            "Fold - Acurácia de Validação: 0.8091\n",
            "Fold - Acurácia de Validação: 0.7682\n",
            "Fold - Acurácia de Validação: 0.7545\n",
            "Fold - Acurácia de Validação: 0.7626\n",
            "Fold - Acurácia de Validação: 0.8219\n",
            "\n",
            "Acurácia média da cross-validation: 0.7833\n"
          ]
        }
      ]
    },
    {
      "cell_type": "markdown",
      "source": [
        "# Testando o melhor modelo no conjunto de teste:"
      ],
      "metadata": {
        "id": "LD1p2VCJEmpx"
      }
    },
    {
      "cell_type": "code",
      "source": [
        "test_df = test_df.drop(['PassengerId', 'Name', 'Cabin', 'Ticket'], axis=1)\n",
        "\n",
        "test_df['Age'] = test_df['Age'].fillna(test_df['Age'].mean())\n",
        "\n",
        "# Substituir NaN pela moda na coluna 'Fare'\n",
        "mode_fare = test_df['Fare'].mode()[0]  # Obtém a moda (valor mais frequente) da coluna 'Fare'\n",
        "test_df['Fare'] = test_df['Fare'].fillna(mode_fare)  # Substitui os NaN pela moda\n",
        "\n",
        "test_df = pd.get_dummies(test_df, columns=['Sex', 'Embarked'])\n",
        "\n",
        "test_df = test_df.astype(float)\n",
        "features_minmax_test = pd.DataFrame(minmax_scaler.transform(test_df), columns=test_df.columns)\n",
        "target_test = target_test['Survived']\n",
        "\n",
        "features_test = torch.tensor(features_minmax_test.to_numpy(), dtype=torch.float32)\n",
        "target_test = torch.tensor(target_test.to_numpy(), dtype=torch.float32).unsqueeze(1)"
      ],
      "metadata": {
        "id": "tvC8LHHm5maN"
      },
      "execution_count": 670,
      "outputs": []
    },
    {
      "cell_type": "markdown",
      "source": [],
      "metadata": {
        "id": "boyngLVBDXgi"
      }
    },
    {
      "cell_type": "code",
      "source": [
        "bestModel.eval()\n",
        "\n",
        "# Realizar previsões\n",
        "with torch.no_grad():  # Desabilitar o cálculo de gradientes para não consumir memória desnecessária\n",
        "    predictions = bestModel(features_test)\n",
        "\n",
        "# Como o modelo é para classificação binária (presumido pela saída de uma única unidade), podemos arredondar as previsões\n",
        "predictions = predictions.round().numpy()\n",
        "\n",
        "# Calcular as métricas de avaliação\n",
        "accuracy = accuracy_score(target_test, predictions)\n",
        "precision = precision_score(target_test, predictions)\n",
        "recall = recall_score(target_test, predictions)\n",
        "f1 = f1_score(target_test, predictions)\n",
        "roc_auc = roc_auc_score(target_test, predictions)\n",
        "\n",
        "# Exibir as métricas\n",
        "print(f\"Acurácia: {accuracy:.4f}\")\n",
        "print(f\"Precisão: {precision:.4f}\")\n",
        "print(f\"Recall: {recall:.4f}\")\n",
        "print(f\"F1-Score: {f1:.4f}\")\n",
        "print(f\"AUC-ROC: {roc_auc:.4f}\")"
      ],
      "metadata": {
        "colab": {
          "base_uri": "https://localhost:8080/"
        },
        "id": "JzU3NFcnNhZD",
        "outputId": "fd8d92aa-9d64-4371-b16b-f2cf39ebe6ca"
      },
      "execution_count": 671,
      "outputs": [
        {
          "output_type": "stream",
          "name": "stdout",
          "text": [
            "Acurácia: 0.9187\n",
            "Precisão: 0.8172\n",
            "Recall: 1.0000\n",
            "F1-Score: 0.8994\n",
            "AUC-ROC: 0.9361\n"
          ]
        }
      ]
    },
    {
      "cell_type": "code",
      "source": [
        "# Calcular a matriz de confusão\n",
        "cm = confusion_matrix(target_test, predictions)\n",
        "\n",
        "# Exibir a matriz de confusão como um gráfico\n",
        "plt.figure(figsize=(6, 5))\n",
        "sns.heatmap(cm, annot=True, fmt='d', cmap='Blues', xticklabels=['Não Sobreviveu', 'Sobreviveu'], yticklabels=['Não Sobreviveu', 'Sobreviveu'])\n",
        "plt.title('Matriz de Confusão')\n",
        "plt.xlabel('Predição')\n",
        "plt.ylabel('Real')\n",
        "plt.show()"
      ],
      "metadata": {
        "colab": {
          "base_uri": "https://localhost:8080/",
          "height": 487
        },
        "id": "qTFp6lLOV9uE",
        "outputId": "9fa10c70-8625-43d6-8969-77e3ef8ad87c"
      },
      "execution_count": 672,
      "outputs": [
        {
          "output_type": "display_data",
          "data": {
            "text/plain": [
              "<Figure size 600x500 with 2 Axes>"
            ],
            "image/png": "[encoded data removed]"
          },
          "metadata": {}
        }
      ]
    }
  ]
}